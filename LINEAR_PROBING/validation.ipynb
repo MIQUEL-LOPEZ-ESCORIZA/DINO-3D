{
 "cells": [
  {
   "cell_type": "markdown",
   "id": "b0f9fad5",
   "metadata": {},
   "source": [
    "## DATA DEFINITION\n"
   ]
  },
  {
   "cell_type": "code",
   "execution_count": null,
   "id": "35bf0a34",
   "metadata": {},
   "outputs": [],
   "source": [
    "import pandas as pd\n",
    "import sys\n",
    "import os\n",
    "import nibabel as nib\n",
    "import torch \n",
    "import numpy as np\n",
    "from monai import transforms\n",
    "\n",
    "sys.path.append(os.path.abspath(\"/scratch/ml9715/DINO-3D/base_modules\"))\n",
    "from src.models.vit import ViT\n",
    "\n",
    "TRAIN_DATASET_CSV = '/scratch/by2026/BrainATLAS/mae/mae/data_csv/mae_UKB_ADNI_HCP_CamCAN_IXI_train_with_stat.csv'\n",
    "VALIDATION_DATASET_CSV = '/scratch/by2026/BrainATLAS/mae/mae/data_csv/mae_UKB_ADNI_HCP_CamCAN_IXI_val_with_stat.csv'\n",
    "MODEL_CHECKPOINT_PATH = '/scratch/ml9715/DINO-3D/checkpoints/RUN_1/checkpoint0050.pth'\n",
    "FEATURES_TO_VALIDATE = ['age', 'gender']\n",
    "CACHE_DIRECTORY = '/scratch/ml9715/DINO-3D/temp_cache_large_3_channel/'\n",
    "BATCH_SIZE = 128\n",
    "\n",
    "\n",
    "\n",
    "\n"
   ]
  },
  {
   "cell_type": "markdown",
   "id": "fc76a0d9",
   "metadata": {},
   "source": [
    "## PREPROCESSING"
   ]
  },
  {
   "cell_type": "code",
   "execution_count": null,
   "id": "744c10da",
   "metadata": {},
   "outputs": [],
   "source": [
    "validation_dataset_df = pd.read_csv(VALIDATION_DATASET_CSV)\n",
    "\n",
    "validation_dataset_df = validation_dataset_df[(validation_dataset_df != -99).all(axis=1)]\n",
    "\n",
    "len(validation_dataset_df)"
   ]
  },
  {
   "cell_type": "markdown",
   "id": "ec165291",
   "metadata": {},
   "source": [
    "## LOADING ViT WITH PRE-TRAINED WEIGHTS"
   ]
  },
  {
   "cell_type": "code",
   "execution_count": null,
   "id": "7eaa588e",
   "metadata": {
    "lines_to_next_cell": 1
   },
   "outputs": [],
   "source": [
    "# Load the CSV and model checkpoint\n",
    "\n",
    "checkpoint = torch.load(MODEL_CHECKPOINT_PATH, map_location=\"cpu\")\n",
    "\n",
    "# Define the ViT model and load the checkpoint\n",
    "vit_model = ViT(in_chans=1, img_size=(96, 96, 96), patch_size=(12, 12, 12), \n",
    "                patch_embed='conv', pos_embed='sincos', use_flash_attn=True)\n",
    "vit_state_dict = {k.replace(\"model.\", \"\"): v for k, v in checkpoint['student'].items() if \"model.\" in k}\n",
    "vit_model.load_state_dict(vit_state_dict, strict=False)\n",
    "vit_model.eval()"
   ]
  },
  {
   "cell_type": "markdown",
   "id": "52db2d1f",
   "metadata": {},
   "source": [
    "## EXTRACTING EMBEDDINGS AND CREATING NEW DATAFRAME\n"
   ]
  },
  {
   "cell_type": "markdown",
   "id": "dcecc868",
   "metadata": {},
   "source": [
    "### DEFINING THE TRANSFORM"
   ]
  },
  {
   "cell_type": "code",
   "execution_count": null,
   "id": "9bbeab2d",
   "metadata": {
    "lines_to_next_cell": 1
   },
   "outputs": [],
   "source": [
    "def loading_and_central_cropping():\n",
    "    window_sizes = [(40, 80), (80, 200), (600, 2800)]\n",
    "    trans = transforms.Compose(\n",
    "        [\n",
    "            transforms.LoadImaged(\n",
    "                keys=[\"image\"],\n",
    "                reader=\"NibabelReader\", \n",
    "                image_only=True,\n",
    "                allow_missing_keys=True,\n",
    "            ),\n",
    "            transforms.EnsureChannelFirstd(\n",
    "                keys=[\"image\"],\n",
    "                allow_missing_keys=True,\n",
    "            ),\n",
    "            transforms.Orientationd(\n",
    "                keys=[\"image\"],\n",
    "                axcodes=\"RAS\",\n",
    "                allow_missing_keys=True,\n",
    "            ),\n",
    "            transforms.Spacingd(\n",
    "                keys=[\"image\"],\n",
    "                pixdim=(1.0, 1.0, 1.0),\n",
    "                mode=3,\n",
    "                allow_missing_keys=True\n",
    "            ),\n",
    "            transforms.CropForegroundd(\n",
    "                keys=[\"image\"],\n",
    "                source_key=\"image\",\n",
    "                allow_smaller=False,\n",
    "                allow_missing_keys=True,\n",
    "            ),\n",
    "            \n",
    "            transforms.CenterSpatialCropd(\n",
    "                keys=[\"image\"],\n",
    "                roi_size=(96, 96, 96),\n",
    "                allow_missing_keys=True\n",
    "            ),\n",
    "            transforms.CastToTyped(\n",
    "                keys=[\"image\"], \n",
    "                dtype=np.float16,\n",
    "            )\n",
    "        ])\n",
    "    return trans"
   ]
  },
  {
   "cell_type": "markdown",
   "id": "174409c5",
   "metadata": {},
   "source": [
    "### CREATING DATALOADER"
   ]
  },
  {
   "cell_type": "code",
   "execution_count": null,
   "id": "f5a77055",
   "metadata": {},
   "outputs": [],
   "source": [
    "from torch.utils.data import DataLoader, Dataset\n",
    "import pandas as pd\n",
    "from monai.data import PersistentDataset\n",
    "\n",
    "class ImageDataset(Dataset):\n",
    "    def __init__(self, cache_dir, validation_dataset_df, features_to_validate, transform_function):\n",
    "        self.cache_dir = cache_dir\n",
    "        self.validation_dataset_df = validation_dataset_df\n",
    "        self.features_to_validate = features_to_validate\n",
    "        self.load = transform_function\n",
    "\n",
    "        # Prepare the data list, including both the image paths and metadata\n",
    "        self.data_list = [\n",
    "            {\n",
    "                \"image\": row[\"img_path_T1_mni152\"], \n",
    "                **{col: row[col] for col in features_to_validate}  # Include metadata in each dictionary\n",
    "            }\n",
    "            for _, row in self.validation_dataset_df.iterrows()\n",
    "        ]\n",
    "\n",
    "        # Create PersistentDataset to cache images and metadata\n",
    "        self.cache_dataset = PersistentDataset(\n",
    "            data=self.data_list,\n",
    "            transform=self.load, \n",
    "            cache_dir=self.cache_dir,\n",
    "        )\n",
    "\n",
    "    def __len__(self):\n",
    "        return len(self.cache_dataset)\n",
    "\n",
    "    def __getitem__(self, idx):\n",
    "        # Load image and metadata from cache\n",
    "        data = self.cache_dataset[idx]\n",
    "        \n",
    "        # Extract the image tensor\n",
    "        img_tensor = data[\"image\"].float()  # Ensure it's in float32\n",
    "        \n",
    "        # Collect metadata\n",
    "        metadata = {col: data[col] for col in self.features_to_validate}\n",
    "        \n",
    "        return img_tensor, metadata\n",
    "\n",
    "# Instantiate the dataset and dataloader\n",
    "dataset = ImageDataset(\n",
    "    cache_dir=CACHE_DIRECTORY,\n",
    "    validation_dataset_df=validation_dataset_df,\n",
    "    features_to_validate=FEATURES_TO_VALIDATE,\n",
    "    transform_function=loading_and_central_cropping()\n",
    ")\n",
    "dataloader = DataLoader(dataset, batch_size=BATCH_SIZE, shuffle=False)\n",
    "\n",
    "\n",
    "\n"
   ]
  },
  {
   "cell_type": "markdown",
   "id": "c4145927",
   "metadata": {},
   "source": [
    "### CREATING FINAL DATAFRAME"
   ]
  },
  {
   "cell_type": "code",
   "execution_count": null,
   "id": "aeeea1a7",
   "metadata": {
    "lines_to_next_cell": 2
   },
   "outputs": [],
   "source": [
    "\n",
    "# Specify the device (use GPU if available)\n",
    "device = torch.device(\"cuda\" if torch.cuda.is_available() else \"cpu\")\n",
    "\n",
    "# Move the model to the device\n",
    "vit_model = vit_model.to(device)\n",
    "\n",
    "# Prepare a list to collect data for the new DataFrame\n",
    "data_list = []\n",
    "\n",
    "# Iterate through the DataLoader in batches\n",
    "for img_tensors, metadata_batch in dataloader:\n",
    "    # Move image tensors to the appropriate device (GPU)\n",
    "    img_tensors = img_tensors.to(device).float()  # Ensure float32\n",
    "\n",
    "    # Obtain features from the ViT model in batch\n",
    "    with torch.no_grad():\n",
    "        features_batch = vit_model(img_tensors)  # Get features for the batch\n",
    "\n",
    "    # Move features back to CPU for further processing\n",
    "    features_batch = features_batch.cpu()\n",
    "\n",
    "    # Process each feature and corresponding metadata\n",
    "    for i in range(len(features_batch)):\n",
    "        features = features_batch[i].squeeze().numpy()\n",
    "        \n",
    "        # Create a dictionary for each image's metadata by extracting each key's ith element\n",
    "        metadata = {key: metadata_batch[key][i].item() if torch.is_tensor(metadata_batch[key][i]) else metadata_batch[key][i]\n",
    "                    for key in metadata_batch}\n",
    "\n",
    "        # Collect the features and selected columns\n",
    "        data_entry = {'features': features}\n",
    "        data_entry.update(metadata)\n",
    "        \n",
    "        data_list.append(data_entry)\n",
    "\n",
    "# Create a new DataFrame with features and selected columns\n",
    "features_df = pd.DataFrame(data_list)\n",
    "print(features_df.head())"
   ]
  },
  {
   "cell_type": "markdown",
   "id": "af7305bf",
   "metadata": {},
   "source": [
    "## TRAINING AND TESTING"
   ]
  },
  {
   "cell_type": "code",
   "execution_count": null,
   "id": "937c833f",
   "metadata": {
    "lines_to_next_cell": 2
   },
   "outputs": [],
   "source": [
    "from sklearn.linear_model import LinearRegression, LogisticRegression\n",
    "from sklearn.model_selection import train_test_split\n",
    "from sklearn.metrics import r2_score, accuracy_score\n",
    "from sklearn.preprocessing import StandardScaler\n",
    "from sklearn.pipeline import Pipeline\n",
    "from sklearn.compose import ColumnTransformer\n",
    "import numpy as np\n",
    "\n",
    "# Extract features, age, and gender\n",
    "features_df = features_df.dropna(subset=['age'])\n",
    "X = np.array(features_df['features'].tolist())  # Convert list of features to numpy array\n",
    "y_age = features_df['age'].values\n",
    "y_gender = features_df['gender'].values\n",
    "\n",
    "# Split the data into training and testing sets\n",
    "X_train, X_test, y_age_train, y_age_test, y_gender_train, y_gender_test = train_test_split(\n",
    "    X, y_age, y_gender, test_size=0.2, random_state=42\n",
    ")\n",
    "\n",
    "# Pipeline for age prediction (Linear Regression)\n",
    "age_pipeline = Pipeline([\n",
    "    ('scaler', StandardScaler()),      # Standardize the input features\n",
    "    ('regressor', LinearRegression())  # Linear regression for age prediction\n",
    "])\n",
    "\n",
    "# Train the pipeline on the standardized features and age target\n",
    "age_pipeline.fit(X_train, y_age_train)\n",
    "\n",
    "# Predict age and evaluate with R^2\n",
    "y_age_pred = age_pipeline.predict(X_test)\n",
    "age_r2 = r2_score(y_age_test, y_age_pred)\n",
    "print(\"R^2 Score for Age Prediction:\", age_r2)\n",
    "\n",
    "# Pipeline for gender prediction (Logistic Regression)\n",
    "gender_pipeline = Pipeline([\n",
    "    ('scaler', StandardScaler()),          # Standardize the input features\n",
    "    ('classifier', LogisticRegression(max_iter=1000))  # Logistic regression for gender classification\n",
    "])\n",
    "\n",
    "# Train the pipeline on the standardized features and gender target\n",
    "gender_pipeline.fit(X_train, y_gender_train)\n",
    "\n",
    "# Predict gender and evaluate accuracy\n",
    "y_gender_pred = gender_pipeline.predict(X_test)\n",
    "gender_accuracy = accuracy_score(y_gender_test, y_gender_pred)\n",
    "print(\"Accuracy for Gender Prediction:\", gender_accuracy)\n"
   ]
  },
  {
   "cell_type": "code",
   "execution_count": null,
   "id": "b7b92fc8",
   "metadata": {},
   "outputs": [],
   "source": [
    "age_min = features_df['age'].min()\n",
    "age_max = features_df['age'].max()\n",
    "\n",
    "print(f\"Age range: {age_min} to {age_max}\")"
   ]
  },
  {
   "cell_type": "code",
   "execution_count": null,
   "id": "e7ff3455",
   "metadata": {},
   "outputs": [],
   "source": [
    "import matplotlib.pyplot as plt\n",
    "plt.scatter(y_age_test, y_age_pred, color='blue', marker='o')"
   ]
  },
  {
   "cell_type": "code",
   "execution_count": null,
   "id": "054dd6e8",
   "metadata": {
    "lines_to_next_cell": 2
   },
   "outputs": [],
   "source": [
    "\n"
   ]
  }
 ],
 "metadata": {
  "jupytext": {
   "cell_metadata_filter": "-all",
   "main_language": "python",
   "notebook_metadata_filter": "-all"
  },
  "kernelspec": {
   "display_name": "Python 3",
   "language": "python",
   "name": "python3"
  },
  "language_info": {
   "name": "python",
   "version": "3.11.10"
  }
 },
 "nbformat": 4,
 "nbformat_minor": 5
}
